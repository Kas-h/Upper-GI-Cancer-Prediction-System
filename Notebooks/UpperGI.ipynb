{
 "cells": [
  {
   "cell_type": "markdown",
   "id": "c593ac75-17b4-4976-a213-3e015cc716ab",
   "metadata": {},
   "source": [
    "\n",
    "\n",
    "\n",
    "DATA ANALYSIS\n",
    "\n",
    "\n"
   ]
  },
  {
   "cell_type": "code",
   "execution_count": 79,
   "id": "b870046d-4619-4e9d-b660-e842a7501921",
   "metadata": {},
   "outputs": [],
   "source": [
    "import pandas as pd\n",
    "import sklearn\n",
    "import numpy as np\n",
    "import matplotlib\n",
    "import matplotlib.pyplot as plt"
   ]
  },
  {
   "cell_type": "code",
   "execution_count": 80,
   "id": "a4015bd3-e40e-40a2-a9a9-cbdfb6157fc6",
   "metadata": {},
   "outputs": [],
   "source": [
    "data = pd.read_csv('New_Supplementary_Data1.csv')"
   ]
  },
  {
   "cell_type": "code",
   "execution_count": 81,
   "id": "15aecba1-f8c1-4f74-ac93-88f4d3e8abb2",
   "metadata": {},
   "outputs": [
    {
     "data": {
      "text/html": [
       "<div>\n",
       "<style scoped>\n",
       "    .dataframe tbody tr th:only-of-type {\n",
       "        vertical-align: middle;\n",
       "    }\n",
       "\n",
       "    .dataframe tbody tr th {\n",
       "        vertical-align: top;\n",
       "    }\n",
       "\n",
       "    .dataframe thead th {\n",
       "        text-align: right;\n",
       "    }\n",
       "</style>\n",
       "<table border=\"1\" class=\"dataframe\">\n",
       "  <thead>\n",
       "    <tr style=\"text-align: right;\">\n",
       "      <th></th>\n",
       "      <th>Sample ID</th>\n",
       "      <th>Cohort group</th>\n",
       "      <th>Age</th>\n",
       "      <th>Sex</th>\n",
       "      <th>Weight [kg]</th>\n",
       "      <th>Height [cm]</th>\n",
       "      <th>Tumour Site</th>\n",
       "      <th>Histology</th>\n",
       "      <th>Pre-op CRP level</th>\n",
       "      <th>Pre-op Bili</th>\n",
       "      <th>...</th>\n",
       "      <th>Pre-op PLT</th>\n",
       "      <th>Pre-op WCC</th>\n",
       "      <th>Blood testosterone</th>\n",
       "      <th>Blood calc free testosterone</th>\n",
       "      <th>Blood oestradiol</th>\n",
       "      <th>Blood LH</th>\n",
       "      <th>Blood FSH</th>\n",
       "      <th>Blood SHBG</th>\n",
       "      <th>Blood insulin</th>\n",
       "      <th>Blood cortisol</th>\n",
       "    </tr>\n",
       "  </thead>\n",
       "  <tbody>\n",
       "    <tr>\n",
       "      <th>0</th>\n",
       "      <td>WEU0043</td>\n",
       "      <td>cancer</td>\n",
       "      <td>59</td>\n",
       "      <td>F</td>\n",
       "      <td>77.2</td>\n",
       "      <td>160</td>\n",
       "      <td>Oesophagus</td>\n",
       "      <td>SCC</td>\n",
       "      <td>1.0</td>\n",
       "      <td>17</td>\n",
       "      <td>...</td>\n",
       "      <td>183.0</td>\n",
       "      <td>4.3</td>\n",
       "      <td>1.8</td>\n",
       "      <td>207</td>\n",
       "      <td>50</td>\n",
       "      <td>38.3</td>\n",
       "      <td>36.3</td>\n",
       "      <td>92</td>\n",
       "      <td>7.7</td>\n",
       "      <td>492</td>\n",
       "    </tr>\n",
       "    <tr>\n",
       "      <th>1</th>\n",
       "      <td>WEU0044</td>\n",
       "      <td>cancer</td>\n",
       "      <td>70</td>\n",
       "      <td>M</td>\n",
       "      <td>61.5</td>\n",
       "      <td>175</td>\n",
       "      <td>Oesophagus</td>\n",
       "      <td>ACC</td>\n",
       "      <td>0.9</td>\n",
       "      <td>9</td>\n",
       "      <td>...</td>\n",
       "      <td>257.0</td>\n",
       "      <td>5.0</td>\n",
       "      <td>12.0</td>\n",
       "      <td>183</td>\n",
       "      <td>50</td>\n",
       "      <td>12.2</td>\n",
       "      <td>17.1</td>\n",
       "      <td>56</td>\n",
       "      <td>3.7</td>\n",
       "      <td>517</td>\n",
       "    </tr>\n",
       "    <tr>\n",
       "      <th>2</th>\n",
       "      <td>WEU0046</td>\n",
       "      <td>cancer</td>\n",
       "      <td>54</td>\n",
       "      <td>M</td>\n",
       "      <td>86.0</td>\n",
       "      <td>180</td>\n",
       "      <td>Oesophagus</td>\n",
       "      <td>ACC</td>\n",
       "      <td>3.0</td>\n",
       "      <td>4</td>\n",
       "      <td>...</td>\n",
       "      <td>230.0</td>\n",
       "      <td>9.2</td>\n",
       "      <td>12.7</td>\n",
       "      <td>257</td>\n",
       "      <td>72</td>\n",
       "      <td>12.3</td>\n",
       "      <td>15.8</td>\n",
       "      <td>36</td>\n",
       "      <td>8.0</td>\n",
       "      <td>210</td>\n",
       "    </tr>\n",
       "    <tr>\n",
       "      <th>3</th>\n",
       "      <td>WEU0047</td>\n",
       "      <td>cancer</td>\n",
       "      <td>70</td>\n",
       "      <td>M</td>\n",
       "      <td>79.5</td>\n",
       "      <td>180</td>\n",
       "      <td>Oesophagus</td>\n",
       "      <td>ACC</td>\n",
       "      <td>2.0</td>\n",
       "      <td>8</td>\n",
       "      <td>...</td>\n",
       "      <td>218.0</td>\n",
       "      <td>10.2</td>\n",
       "      <td>23.1</td>\n",
       "      <td>374</td>\n",
       "      <td>101</td>\n",
       "      <td>16.9</td>\n",
       "      <td>16.7</td>\n",
       "      <td>57</td>\n",
       "      <td>8.4</td>\n",
       "      <td>315</td>\n",
       "    </tr>\n",
       "    <tr>\n",
       "      <th>4</th>\n",
       "      <td>WEU0048</td>\n",
       "      <td>cancer</td>\n",
       "      <td>55</td>\n",
       "      <td>M</td>\n",
       "      <td>101.5</td>\n",
       "      <td>177</td>\n",
       "      <td>OGJ</td>\n",
       "      <td>ACC</td>\n",
       "      <td>2.0</td>\n",
       "      <td>6</td>\n",
       "      <td>...</td>\n",
       "      <td>203.0</td>\n",
       "      <td>3.4</td>\n",
       "      <td>11.2</td>\n",
       "      <td>228</td>\n",
       "      <td>64</td>\n",
       "      <td>2.9</td>\n",
       "      <td>5.8</td>\n",
       "      <td>36</td>\n",
       "      <td>7.8</td>\n",
       "      <td>401</td>\n",
       "    </tr>\n",
       "    <tr>\n",
       "      <th>...</th>\n",
       "      <td>...</td>\n",
       "      <td>...</td>\n",
       "      <td>...</td>\n",
       "      <td>...</td>\n",
       "      <td>...</td>\n",
       "      <td>...</td>\n",
       "      <td>...</td>\n",
       "      <td>...</td>\n",
       "      <td>...</td>\n",
       "      <td>...</td>\n",
       "      <td>...</td>\n",
       "      <td>...</td>\n",
       "      <td>...</td>\n",
       "      <td>...</td>\n",
       "      <td>...</td>\n",
       "      <td>...</td>\n",
       "      <td>...</td>\n",
       "      <td>...</td>\n",
       "      <td>...</td>\n",
       "      <td>...</td>\n",
       "      <td>...</td>\n",
       "    </tr>\n",
       "    <tr>\n",
       "      <th>57</th>\n",
       "      <td>WEU0122</td>\n",
       "      <td>cancer</td>\n",
       "      <td>63</td>\n",
       "      <td>F</td>\n",
       "      <td>52.4</td>\n",
       "      <td>153</td>\n",
       "      <td>Pancreas</td>\n",
       "      <td>ACC</td>\n",
       "      <td>1.0</td>\n",
       "      <td>38</td>\n",
       "      <td>...</td>\n",
       "      <td>209.0</td>\n",
       "      <td>5.2</td>\n",
       "      <td>1.6</td>\n",
       "      <td>207</td>\n",
       "      <td>50</td>\n",
       "      <td>22.9</td>\n",
       "      <td>65.8</td>\n",
       "      <td>63</td>\n",
       "      <td>2.0</td>\n",
       "      <td>320</td>\n",
       "    </tr>\n",
       "    <tr>\n",
       "      <th>58</th>\n",
       "      <td>WEU0123</td>\n",
       "      <td>cancer</td>\n",
       "      <td>67</td>\n",
       "      <td>M</td>\n",
       "      <td>91.3</td>\n",
       "      <td>170</td>\n",
       "      <td>Pancreas</td>\n",
       "      <td>ACC</td>\n",
       "      <td>1.0</td>\n",
       "      <td>10</td>\n",
       "      <td>...</td>\n",
       "      <td>291.0</td>\n",
       "      <td>7.7</td>\n",
       "      <td>12.5</td>\n",
       "      <td>197</td>\n",
       "      <td>73</td>\n",
       "      <td>8.7</td>\n",
       "      <td>6.9</td>\n",
       "      <td>51</td>\n",
       "      <td>6.4</td>\n",
       "      <td>260</td>\n",
       "    </tr>\n",
       "    <tr>\n",
       "      <th>59</th>\n",
       "      <td>WEU0184</td>\n",
       "      <td>cancer</td>\n",
       "      <td>76</td>\n",
       "      <td>M</td>\n",
       "      <td>72.4</td>\n",
       "      <td>173</td>\n",
       "      <td>Pancreas</td>\n",
       "      <td>ACC</td>\n",
       "      <td>4.0</td>\n",
       "      <td>14</td>\n",
       "      <td>...</td>\n",
       "      <td>211.0</td>\n",
       "      <td>6.3</td>\n",
       "      <td>26.8</td>\n",
       "      <td>158</td>\n",
       "      <td>68</td>\n",
       "      <td>31.9</td>\n",
       "      <td>18.6</td>\n",
       "      <td>177</td>\n",
       "      <td>2.0</td>\n",
       "      <td>369</td>\n",
       "    </tr>\n",
       "    <tr>\n",
       "      <th>60</th>\n",
       "      <td>WEU0188</td>\n",
       "      <td>cancer</td>\n",
       "      <td>65</td>\n",
       "      <td>M</td>\n",
       "      <td>90.6</td>\n",
       "      <td>170</td>\n",
       "      <td>OGJ</td>\n",
       "      <td>ACC</td>\n",
       "      <td>1.0</td>\n",
       "      <td>8</td>\n",
       "      <td>...</td>\n",
       "      <td>276.0</td>\n",
       "      <td>6.3</td>\n",
       "      <td>1.2</td>\n",
       "      <td>207</td>\n",
       "      <td>60</td>\n",
       "      <td>21.0</td>\n",
       "      <td>62.2</td>\n",
       "      <td>70</td>\n",
       "      <td>7.5</td>\n",
       "      <td>559</td>\n",
       "    </tr>\n",
       "    <tr>\n",
       "      <th>61</th>\n",
       "      <td>WEU0194</td>\n",
       "      <td>cancer</td>\n",
       "      <td>63</td>\n",
       "      <td>F</td>\n",
       "      <td>71.8</td>\n",
       "      <td>175</td>\n",
       "      <td>Oesophagus</td>\n",
       "      <td>SCC</td>\n",
       "      <td>5.0</td>\n",
       "      <td>13</td>\n",
       "      <td>...</td>\n",
       "      <td>192.0</td>\n",
       "      <td>7.6</td>\n",
       "      <td>1.4</td>\n",
       "      <td>207</td>\n",
       "      <td>50</td>\n",
       "      <td>20.7</td>\n",
       "      <td>28.4</td>\n",
       "      <td>116</td>\n",
       "      <td>6.1</td>\n",
       "      <td>788</td>\n",
       "    </tr>\n",
       "  </tbody>\n",
       "</table>\n",
       "<p>62 rows × 32 columns</p>\n",
       "</div>"
      ],
      "text/plain": [
       "   Sample ID Cohort group  Age Sex  Weight [kg]  Height [cm] Tumour Site  \\\n",
       "0    WEU0043       cancer   59   F         77.2          160  Oesophagus   \n",
       "1    WEU0044       cancer   70   M         61.5          175  Oesophagus   \n",
       "2    WEU0046       cancer   54   M         86.0          180  Oesophagus   \n",
       "3    WEU0047       cancer   70   M         79.5          180  Oesophagus   \n",
       "4    WEU0048       cancer   55   M        101.5          177         OGJ   \n",
       "..       ...          ...  ...  ..          ...          ...         ...   \n",
       "57   WEU0122       cancer   63   F         52.4          153    Pancreas   \n",
       "58   WEU0123       cancer   67   M         91.3          170    Pancreas   \n",
       "59   WEU0184       cancer   76   M         72.4          173    Pancreas   \n",
       "60   WEU0188       cancer   65   M         90.6          170         OGJ   \n",
       "61   WEU0194       cancer   63   F         71.8          175  Oesophagus   \n",
       "\n",
       "   Histology  Pre-op CRP level  Pre-op Bili  ...  Pre-op PLT  Pre-op WCC  \\\n",
       "0        SCC               1.0           17  ...       183.0         4.3   \n",
       "1        ACC               0.9            9  ...       257.0         5.0   \n",
       "2        ACC               3.0            4  ...       230.0         9.2   \n",
       "3        ACC               2.0            8  ...       218.0        10.2   \n",
       "4        ACC               2.0            6  ...       203.0         3.4   \n",
       "..       ...               ...          ...  ...         ...         ...   \n",
       "57       ACC               1.0           38  ...       209.0         5.2   \n",
       "58       ACC               1.0           10  ...       291.0         7.7   \n",
       "59       ACC               4.0           14  ...       211.0         6.3   \n",
       "60       ACC               1.0            8  ...       276.0         6.3   \n",
       "61       SCC               5.0           13  ...       192.0         7.6   \n",
       "\n",
       "    Blood testosterone  Blood calc free testosterone  Blood oestradiol  \\\n",
       "0                  1.8                           207                50   \n",
       "1                 12.0                           183                50   \n",
       "2                 12.7                           257                72   \n",
       "3                 23.1                           374               101   \n",
       "4                 11.2                           228                64   \n",
       "..                 ...                           ...               ...   \n",
       "57                 1.6                           207                50   \n",
       "58                12.5                           197                73   \n",
       "59                26.8                           158                68   \n",
       "60                 1.2                           207                60   \n",
       "61                 1.4                           207                50   \n",
       "\n",
       "    Blood LH  Blood FSH  Blood SHBG  Blood insulin  Blood cortisol  \n",
       "0       38.3       36.3          92            7.7             492  \n",
       "1       12.2       17.1          56            3.7             517  \n",
       "2       12.3       15.8          36            8.0             210  \n",
       "3       16.9       16.7          57            8.4             315  \n",
       "4        2.9        5.8          36            7.8             401  \n",
       "..       ...        ...         ...            ...             ...  \n",
       "57      22.9       65.8          63            2.0             320  \n",
       "58       8.7        6.9          51            6.4             260  \n",
       "59      31.9       18.6         177            2.0             369  \n",
       "60      21.0       62.2          70            7.5             559  \n",
       "61      20.7       28.4         116            6.1             788  \n",
       "\n",
       "[62 rows x 32 columns]"
      ]
     },
     "execution_count": 81,
     "metadata": {},
     "output_type": "execute_result"
    }
   ],
   "source": [
    "data"
   ]
  },
  {
   "cell_type": "code",
   "execution_count": 82,
   "id": "61cefb86-3c83-444b-8a80-a2114dc97236",
   "metadata": {},
   "outputs": [
    {
     "data": {
      "text/html": [
       "<div>\n",
       "<style scoped>\n",
       "    .dataframe tbody tr th:only-of-type {\n",
       "        vertical-align: middle;\n",
       "    }\n",
       "\n",
       "    .dataframe tbody tr th {\n",
       "        vertical-align: top;\n",
       "    }\n",
       "\n",
       "    .dataframe thead th {\n",
       "        text-align: right;\n",
       "    }\n",
       "</style>\n",
       "<table border=\"1\" class=\"dataframe\">\n",
       "  <thead>\n",
       "    <tr style=\"text-align: right;\">\n",
       "      <th></th>\n",
       "      <th>Age</th>\n",
       "      <th>Weight [kg]</th>\n",
       "      <th>Height [cm]</th>\n",
       "      <th>Pre-op CRP level</th>\n",
       "      <th>Pre-op Bili</th>\n",
       "      <th>Pre-op ALT</th>\n",
       "      <th>Pre-op Alk Phos</th>\n",
       "      <th>Pre-op GGT</th>\n",
       "      <th>Pre-op Albumin</th>\n",
       "      <th>Pre-op Urea</th>\n",
       "      <th>...</th>\n",
       "      <th>Pre-op PLT</th>\n",
       "      <th>Pre-op WCC</th>\n",
       "      <th>Blood testosterone</th>\n",
       "      <th>Blood calc free testosterone</th>\n",
       "      <th>Blood oestradiol</th>\n",
       "      <th>Blood LH</th>\n",
       "      <th>Blood FSH</th>\n",
       "      <th>Blood SHBG</th>\n",
       "      <th>Blood insulin</th>\n",
       "      <th>Blood cortisol</th>\n",
       "    </tr>\n",
       "  </thead>\n",
       "  <tbody>\n",
       "    <tr>\n",
       "      <th>count</th>\n",
       "      <td>62.000000</td>\n",
       "      <td>62.000000</td>\n",
       "      <td>62.000000</td>\n",
       "      <td>62.000000</td>\n",
       "      <td>62.000000</td>\n",
       "      <td>62.000000</td>\n",
       "      <td>62.000000</td>\n",
       "      <td>62.000000</td>\n",
       "      <td>62.000000</td>\n",
       "      <td>62.000000</td>\n",
       "      <td>...</td>\n",
       "      <td>62.000000</td>\n",
       "      <td>62.000000</td>\n",
       "      <td>62.000000</td>\n",
       "      <td>62.000000</td>\n",
       "      <td>62.000000</td>\n",
       "      <td>62.000000</td>\n",
       "      <td>62.000000</td>\n",
       "      <td>62.000000</td>\n",
       "      <td>62.000000</td>\n",
       "      <td>62.000000</td>\n",
       "    </tr>\n",
       "    <tr>\n",
       "      <th>mean</th>\n",
       "      <td>65.048387</td>\n",
       "      <td>75.362742</td>\n",
       "      <td>170.064516</td>\n",
       "      <td>15.270968</td>\n",
       "      <td>26.677419</td>\n",
       "      <td>34.306452</td>\n",
       "      <td>149.274194</td>\n",
       "      <td>131.564516</td>\n",
       "      <td>34.306452</td>\n",
       "      <td>5.287097</td>\n",
       "      <td>...</td>\n",
       "      <td>292.067742</td>\n",
       "      <td>12.935484</td>\n",
       "      <td>8.996774</td>\n",
       "      <td>206.951613</td>\n",
       "      <td>77.322581</td>\n",
       "      <td>13.290323</td>\n",
       "      <td>21.322581</td>\n",
       "      <td>57.241935</td>\n",
       "      <td>7.312903</td>\n",
       "      <td>417.725806</td>\n",
       "    </tr>\n",
       "    <tr>\n",
       "      <th>std</th>\n",
       "      <td>9.452951</td>\n",
       "      <td>17.690113</td>\n",
       "      <td>9.209530</td>\n",
       "      <td>33.384513</td>\n",
       "      <td>62.432593</td>\n",
       "      <td>42.329151</td>\n",
       "      <td>190.674830</td>\n",
       "      <td>231.770776</td>\n",
       "      <td>3.977761</td>\n",
       "      <td>2.195859</td>\n",
       "      <td>...</td>\n",
       "      <td>118.356294</td>\n",
       "      <td>42.811061</td>\n",
       "      <td>7.199772</td>\n",
       "      <td>62.348683</td>\n",
       "      <td>33.524532</td>\n",
       "      <td>9.343758</td>\n",
       "      <td>18.815850</td>\n",
       "      <td>28.199340</td>\n",
       "      <td>5.653738</td>\n",
       "      <td>161.408977</td>\n",
       "    </tr>\n",
       "    <tr>\n",
       "      <th>min</th>\n",
       "      <td>43.000000</td>\n",
       "      <td>41.400000</td>\n",
       "      <td>140.000000</td>\n",
       "      <td>0.900000</td>\n",
       "      <td>4.000000</td>\n",
       "      <td>6.000000</td>\n",
       "      <td>24.000000</td>\n",
       "      <td>6.000000</td>\n",
       "      <td>22.000000</td>\n",
       "      <td>1.200000</td>\n",
       "      <td>...</td>\n",
       "      <td>10.200000</td>\n",
       "      <td>3.100000</td>\n",
       "      <td>0.500000</td>\n",
       "      <td>69.000000</td>\n",
       "      <td>50.000000</td>\n",
       "      <td>0.900000</td>\n",
       "      <td>1.100000</td>\n",
       "      <td>18.000000</td>\n",
       "      <td>2.000000</td>\n",
       "      <td>116.000000</td>\n",
       "    </tr>\n",
       "    <tr>\n",
       "      <th>25%</th>\n",
       "      <td>59.000000</td>\n",
       "      <td>62.250000</td>\n",
       "      <td>165.250000</td>\n",
       "      <td>1.000000</td>\n",
       "      <td>6.000000</td>\n",
       "      <td>13.000000</td>\n",
       "      <td>54.500000</td>\n",
       "      <td>19.250000</td>\n",
       "      <td>32.000000</td>\n",
       "      <td>3.600000</td>\n",
       "      <td>...</td>\n",
       "      <td>219.750000</td>\n",
       "      <td>5.600000</td>\n",
       "      <td>1.425000</td>\n",
       "      <td>189.750000</td>\n",
       "      <td>50.000000</td>\n",
       "      <td>6.000000</td>\n",
       "      <td>5.500000</td>\n",
       "      <td>36.250000</td>\n",
       "      <td>3.725000</td>\n",
       "      <td>293.750000</td>\n",
       "    </tr>\n",
       "    <tr>\n",
       "      <th>50%</th>\n",
       "      <td>66.000000</td>\n",
       "      <td>75.350000</td>\n",
       "      <td>170.000000</td>\n",
       "      <td>3.000000</td>\n",
       "      <td>9.000000</td>\n",
       "      <td>20.000000</td>\n",
       "      <td>82.000000</td>\n",
       "      <td>35.500000</td>\n",
       "      <td>35.000000</td>\n",
       "      <td>5.000000</td>\n",
       "      <td>...</td>\n",
       "      <td>266.000000</td>\n",
       "      <td>7.450000</td>\n",
       "      <td>9.150000</td>\n",
       "      <td>207.000000</td>\n",
       "      <td>63.500000</td>\n",
       "      <td>11.450000</td>\n",
       "      <td>16.900000</td>\n",
       "      <td>54.500000</td>\n",
       "      <td>6.300000</td>\n",
       "      <td>399.000000</td>\n",
       "    </tr>\n",
       "    <tr>\n",
       "      <th>75%</th>\n",
       "      <td>70.750000</td>\n",
       "      <td>85.625000</td>\n",
       "      <td>175.000000</td>\n",
       "      <td>8.750000</td>\n",
       "      <td>14.000000</td>\n",
       "      <td>29.750000</td>\n",
       "      <td>124.500000</td>\n",
       "      <td>93.750000</td>\n",
       "      <td>37.000000</td>\n",
       "      <td>6.400000</td>\n",
       "      <td>...</td>\n",
       "      <td>324.750000</td>\n",
       "      <td>8.900000</td>\n",
       "      <td>13.225000</td>\n",
       "      <td>207.000000</td>\n",
       "      <td>94.000000</td>\n",
       "      <td>18.900000</td>\n",
       "      <td>33.875000</td>\n",
       "      <td>66.000000</td>\n",
       "      <td>8.000000</td>\n",
       "      <td>524.500000</td>\n",
       "    </tr>\n",
       "    <tr>\n",
       "      <th>max</th>\n",
       "      <td>83.000000</td>\n",
       "      <td>133.000000</td>\n",
       "      <td>190.000000</td>\n",
       "      <td>172.000000</td>\n",
       "      <td>342.000000</td>\n",
       "      <td>241.000000</td>\n",
       "      <td>997.000000</td>\n",
       "      <td>1020.000000</td>\n",
       "      <td>42.000000</td>\n",
       "      <td>12.000000</td>\n",
       "      <td>...</td>\n",
       "      <td>731.000000</td>\n",
       "      <td>344.000000</td>\n",
       "      <td>26.800000</td>\n",
       "      <td>429.000000</td>\n",
       "      <td>201.000000</td>\n",
       "      <td>39.200000</td>\n",
       "      <td>66.200000</td>\n",
       "      <td>177.000000</td>\n",
       "      <td>31.200000</td>\n",
       "      <td>925.000000</td>\n",
       "    </tr>\n",
       "  </tbody>\n",
       "</table>\n",
       "<p>8 rows × 27 columns</p>\n",
       "</div>"
      ],
      "text/plain": [
       "             Age  Weight [kg]  Height [cm]  Pre-op CRP level  Pre-op Bili  \\\n",
       "count  62.000000    62.000000    62.000000         62.000000    62.000000   \n",
       "mean   65.048387    75.362742   170.064516         15.270968    26.677419   \n",
       "std     9.452951    17.690113     9.209530         33.384513    62.432593   \n",
       "min    43.000000    41.400000   140.000000          0.900000     4.000000   \n",
       "25%    59.000000    62.250000   165.250000          1.000000     6.000000   \n",
       "50%    66.000000    75.350000   170.000000          3.000000     9.000000   \n",
       "75%    70.750000    85.625000   175.000000          8.750000    14.000000   \n",
       "max    83.000000   133.000000   190.000000        172.000000   342.000000   \n",
       "\n",
       "       Pre-op ALT  Pre-op Alk Phos   Pre-op GGT  Pre-op Albumin  Pre-op Urea  \\\n",
       "count   62.000000        62.000000    62.000000       62.000000    62.000000   \n",
       "mean    34.306452       149.274194   131.564516       34.306452     5.287097   \n",
       "std     42.329151       190.674830   231.770776        3.977761     2.195859   \n",
       "min      6.000000        24.000000     6.000000       22.000000     1.200000   \n",
       "25%     13.000000        54.500000    19.250000       32.000000     3.600000   \n",
       "50%     20.000000        82.000000    35.500000       35.000000     5.000000   \n",
       "75%     29.750000       124.500000    93.750000       37.000000     6.400000   \n",
       "max    241.000000       997.000000  1020.000000       42.000000    12.000000   \n",
       "\n",
       "       ...  Pre-op PLT  Pre-op WCC  Blood testosterone  \\\n",
       "count  ...   62.000000   62.000000           62.000000   \n",
       "mean   ...  292.067742   12.935484            8.996774   \n",
       "std    ...  118.356294   42.811061            7.199772   \n",
       "min    ...   10.200000    3.100000            0.500000   \n",
       "25%    ...  219.750000    5.600000            1.425000   \n",
       "50%    ...  266.000000    7.450000            9.150000   \n",
       "75%    ...  324.750000    8.900000           13.225000   \n",
       "max    ...  731.000000  344.000000           26.800000   \n",
       "\n",
       "       Blood calc free testosterone  Blood oestradiol   Blood LH  Blood FSH  \\\n",
       "count                     62.000000         62.000000  62.000000  62.000000   \n",
       "mean                     206.951613         77.322581  13.290323  21.322581   \n",
       "std                       62.348683         33.524532   9.343758  18.815850   \n",
       "min                       69.000000         50.000000   0.900000   1.100000   \n",
       "25%                      189.750000         50.000000   6.000000   5.500000   \n",
       "50%                      207.000000         63.500000  11.450000  16.900000   \n",
       "75%                      207.000000         94.000000  18.900000  33.875000   \n",
       "max                      429.000000        201.000000  39.200000  66.200000   \n",
       "\n",
       "       Blood SHBG  Blood insulin  Blood cortisol  \n",
       "count   62.000000      62.000000       62.000000  \n",
       "mean    57.241935       7.312903      417.725806  \n",
       "std     28.199340       5.653738      161.408977  \n",
       "min     18.000000       2.000000      116.000000  \n",
       "25%     36.250000       3.725000      293.750000  \n",
       "50%     54.500000       6.300000      399.000000  \n",
       "75%     66.000000       8.000000      524.500000  \n",
       "max    177.000000      31.200000      925.000000  \n",
       "\n",
       "[8 rows x 27 columns]"
      ]
     },
     "execution_count": 82,
     "metadata": {},
     "output_type": "execute_result"
    }
   ],
   "source": [
    "data.describe()"
   ]
  },
  {
   "cell_type": "code",
   "execution_count": 83,
   "id": "9f07e49b-3d20-46c1-ae97-cd78ed0e4b49",
   "metadata": {},
   "outputs": [
    {
     "data": {
      "text/plain": [
       "(62, 32)"
      ]
     },
     "execution_count": 83,
     "metadata": {},
     "output_type": "execute_result"
    }
   ],
   "source": [
    "data.shape"
   ]
  },
  {
   "cell_type": "code",
   "execution_count": 84,
   "id": "1bc48eb3-5674-42e8-8673-778e97d508eb",
   "metadata": {},
   "outputs": [
    {
     "data": {
      "text/plain": [
       "Tumour Site\n",
       "Pancreas      23\n",
       "Oesophagus    18\n",
       "OGJ           11\n",
       "Gastric       10\n",
       "Name: count, dtype: int64"
      ]
     },
     "execution_count": 84,
     "metadata": {},
     "output_type": "execute_result"
    }
   ],
   "source": [
    "data['Tumour Site'].value_counts()"
   ]
  },
  {
   "cell_type": "code",
   "execution_count": 85,
   "id": "196e6cb6-25e8-4cf8-9116-54086b35550e",
   "metadata": {},
   "outputs": [
    {
     "data": {
      "text/plain": [
       "Histology\n",
       "ACC     57\n",
       "SCC      4\n",
       "ACC      1\n",
       "Name: count, dtype: int64"
      ]
     },
     "execution_count": 85,
     "metadata": {},
     "output_type": "execute_result"
    }
   ],
   "source": [
    "data['Histology'].value_counts()"
   ]
  },
  {
   "cell_type": "markdown",
   "id": "327d3a81-87c7-42d8-bb5b-2797e62b9150",
   "metadata": {},
   "source": [
    "\n",
    "\n",
    "\n",
    "\n",
    "DATA PROCESSING\n",
    "\n",
    "\n",
    "\n"
   ]
  },
  {
   "cell_type": "code",
   "execution_count": 86,
   "id": "6edcda8a-7d75-494b-9eb4-6f80d29c180a",
   "metadata": {},
   "outputs": [],
   "source": [
    "import pandas as pd\n",
    "from sklearn.preprocessing import LabelEncoder, StandardScaler\n",
    "from sklearn.model_selection import train_test_split"
   ]
  },
  {
   "cell_type": "code",
   "execution_count": 87,
   "id": "a4c581f1-9460-4e80-a2d2-a7f69faf8ed4",
   "metadata": {},
   "outputs": [],
   "source": [
    "categorical_columns = data.select_dtypes(include=['object']).columns\n",
    "le = LabelEncoder()\n",
    "for col in categorical_columns:\n",
    "    data[col] = le.fit_transform(data[col])\n"
   ]
  },
  {
   "cell_type": "code",
   "execution_count": 88,
   "id": "6f83f9fb-33ac-4a57-b3ff-9271bae6341a",
   "metadata": {},
   "outputs": [
    {
     "data": {
      "text/html": [
       "<div>\n",
       "<style scoped>\n",
       "    .dataframe tbody tr th:only-of-type {\n",
       "        vertical-align: middle;\n",
       "    }\n",
       "\n",
       "    .dataframe tbody tr th {\n",
       "        vertical-align: top;\n",
       "    }\n",
       "\n",
       "    .dataframe thead th {\n",
       "        text-align: right;\n",
       "    }\n",
       "</style>\n",
       "<table border=\"1\" class=\"dataframe\">\n",
       "  <thead>\n",
       "    <tr style=\"text-align: right;\">\n",
       "      <th></th>\n",
       "      <th>Age</th>\n",
       "      <th>Sex</th>\n",
       "      <th>Weight [kg]</th>\n",
       "      <th>Height [cm]</th>\n",
       "      <th>Histology</th>\n",
       "      <th>Pre-op CRP level</th>\n",
       "      <th>Pre-op Bili</th>\n",
       "      <th>Pre-op ALT</th>\n",
       "      <th>Pre-op Alk Phos</th>\n",
       "      <th>Pre-op GGT</th>\n",
       "      <th>...</th>\n",
       "      <th>Pre-op PLT</th>\n",
       "      <th>Pre-op WCC</th>\n",
       "      <th>Blood testosterone</th>\n",
       "      <th>Blood calc free testosterone</th>\n",
       "      <th>Blood oestradiol</th>\n",
       "      <th>Blood LH</th>\n",
       "      <th>Blood FSH</th>\n",
       "      <th>Blood SHBG</th>\n",
       "      <th>Blood insulin</th>\n",
       "      <th>Blood cortisol</th>\n",
       "    </tr>\n",
       "  </thead>\n",
       "  <tbody>\n",
       "    <tr>\n",
       "      <th>0</th>\n",
       "      <td>59</td>\n",
       "      <td>0</td>\n",
       "      <td>77.2</td>\n",
       "      <td>160</td>\n",
       "      <td>2</td>\n",
       "      <td>1.0</td>\n",
       "      <td>17</td>\n",
       "      <td>12</td>\n",
       "      <td>53</td>\n",
       "      <td>15</td>\n",
       "      <td>...</td>\n",
       "      <td>183.0</td>\n",
       "      <td>4.3</td>\n",
       "      <td>1.8</td>\n",
       "      <td>207</td>\n",
       "      <td>50</td>\n",
       "      <td>38.3</td>\n",
       "      <td>36.3</td>\n",
       "      <td>92</td>\n",
       "      <td>7.7</td>\n",
       "      <td>492</td>\n",
       "    </tr>\n",
       "    <tr>\n",
       "      <th>1</th>\n",
       "      <td>70</td>\n",
       "      <td>1</td>\n",
       "      <td>61.5</td>\n",
       "      <td>175</td>\n",
       "      <td>0</td>\n",
       "      <td>0.9</td>\n",
       "      <td>9</td>\n",
       "      <td>12</td>\n",
       "      <td>46</td>\n",
       "      <td>27</td>\n",
       "      <td>...</td>\n",
       "      <td>257.0</td>\n",
       "      <td>5.0</td>\n",
       "      <td>12.0</td>\n",
       "      <td>183</td>\n",
       "      <td>50</td>\n",
       "      <td>12.2</td>\n",
       "      <td>17.1</td>\n",
       "      <td>56</td>\n",
       "      <td>3.7</td>\n",
       "      <td>517</td>\n",
       "    </tr>\n",
       "    <tr>\n",
       "      <th>2</th>\n",
       "      <td>54</td>\n",
       "      <td>1</td>\n",
       "      <td>86.0</td>\n",
       "      <td>180</td>\n",
       "      <td>0</td>\n",
       "      <td>3.0</td>\n",
       "      <td>4</td>\n",
       "      <td>11</td>\n",
       "      <td>56</td>\n",
       "      <td>24</td>\n",
       "      <td>...</td>\n",
       "      <td>230.0</td>\n",
       "      <td>9.2</td>\n",
       "      <td>12.7</td>\n",
       "      <td>257</td>\n",
       "      <td>72</td>\n",
       "      <td>12.3</td>\n",
       "      <td>15.8</td>\n",
       "      <td>36</td>\n",
       "      <td>8.0</td>\n",
       "      <td>210</td>\n",
       "    </tr>\n",
       "    <tr>\n",
       "      <th>3</th>\n",
       "      <td>70</td>\n",
       "      <td>1</td>\n",
       "      <td>79.5</td>\n",
       "      <td>180</td>\n",
       "      <td>0</td>\n",
       "      <td>2.0</td>\n",
       "      <td>8</td>\n",
       "      <td>28</td>\n",
       "      <td>78</td>\n",
       "      <td>30</td>\n",
       "      <td>...</td>\n",
       "      <td>218.0</td>\n",
       "      <td>10.2</td>\n",
       "      <td>23.1</td>\n",
       "      <td>374</td>\n",
       "      <td>101</td>\n",
       "      <td>16.9</td>\n",
       "      <td>16.7</td>\n",
       "      <td>57</td>\n",
       "      <td>8.4</td>\n",
       "      <td>315</td>\n",
       "    </tr>\n",
       "    <tr>\n",
       "      <th>4</th>\n",
       "      <td>55</td>\n",
       "      <td>1</td>\n",
       "      <td>101.5</td>\n",
       "      <td>177</td>\n",
       "      <td>0</td>\n",
       "      <td>2.0</td>\n",
       "      <td>6</td>\n",
       "      <td>11</td>\n",
       "      <td>39</td>\n",
       "      <td>32</td>\n",
       "      <td>...</td>\n",
       "      <td>203.0</td>\n",
       "      <td>3.4</td>\n",
       "      <td>11.2</td>\n",
       "      <td>228</td>\n",
       "      <td>64</td>\n",
       "      <td>2.9</td>\n",
       "      <td>5.8</td>\n",
       "      <td>36</td>\n",
       "      <td>7.8</td>\n",
       "      <td>401</td>\n",
       "    </tr>\n",
       "  </tbody>\n",
       "</table>\n",
       "<p>5 rows × 29 columns</p>\n",
       "</div>"
      ],
      "text/plain": [
       "   Age  Sex  Weight [kg]  Height [cm]  Histology  Pre-op CRP level  \\\n",
       "0   59    0         77.2          160          2               1.0   \n",
       "1   70    1         61.5          175          0               0.9   \n",
       "2   54    1         86.0          180          0               3.0   \n",
       "3   70    1         79.5          180          0               2.0   \n",
       "4   55    1        101.5          177          0               2.0   \n",
       "\n",
       "   Pre-op Bili  Pre-op ALT  Pre-op Alk Phos  Pre-op GGT  ...  Pre-op PLT  \\\n",
       "0           17          12               53          15  ...       183.0   \n",
       "1            9          12               46          27  ...       257.0   \n",
       "2            4          11               56          24  ...       230.0   \n",
       "3            8          28               78          30  ...       218.0   \n",
       "4            6          11               39          32  ...       203.0   \n",
       "\n",
       "   Pre-op WCC  Blood testosterone  Blood calc free testosterone  \\\n",
       "0         4.3                 1.8                           207   \n",
       "1         5.0                12.0                           183   \n",
       "2         9.2                12.7                           257   \n",
       "3        10.2                23.1                           374   \n",
       "4         3.4                11.2                           228   \n",
       "\n",
       "   Blood oestradiol  Blood LH  Blood FSH  Blood SHBG  Blood insulin  \\\n",
       "0                50      38.3       36.3          92            7.7   \n",
       "1                50      12.2       17.1          56            3.7   \n",
       "2                72      12.3       15.8          36            8.0   \n",
       "3               101      16.9       16.7          57            8.4   \n",
       "4                64       2.9        5.8          36            7.8   \n",
       "\n",
       "   Blood cortisol  \n",
       "0             492  \n",
       "1             517  \n",
       "2             210  \n",
       "3             315  \n",
       "4             401  \n",
       "\n",
       "[5 rows x 29 columns]"
      ]
     },
     "execution_count": 88,
     "metadata": {},
     "output_type": "execute_result"
    }
   ],
   "source": [
    "X = data.drop(columns=['Tumour Site','Sample ID','Cohort group'])\n",
    "X.head()"
   ]
  },
  {
   "cell_type": "code",
   "execution_count": 89,
   "id": "67ca7c2b-6862-4df8-bec2-cd0eab092ba3",
   "metadata": {},
   "outputs": [],
   "source": [
    "X.to_csv('X.csv', index=False)"
   ]
  },
  {
   "cell_type": "code",
   "execution_count": 90,
   "id": "03564d02-e1fb-442d-80bc-33eed9d9f0e7",
   "metadata": {},
   "outputs": [
    {
     "name": "stdout",
     "output_type": "stream",
     "text": [
      "Age\n",
      "Sex\n",
      "Weight [kg]\n",
      "Height [cm]\n",
      "Histology\n",
      "Pre-op CRP level\n",
      "Pre-op Bili\n",
      "Pre-op ALT\n",
      "Pre-op Alk Phos\n",
      "Pre-op GGT\n",
      "Pre-op Albumin\n",
      "Pre-op Urea\n",
      "Pre-op Creatinine\n",
      "Pre-op estimated GFR\n",
      "Pre-op Na\n",
      "Pre-op K\n",
      "Pre-op TCO2\n",
      "Pre-op Glucose\n",
      "Pre-op Hb\n",
      "Pre-op PLT\n",
      "Pre-op WCC\n",
      "Blood testosterone\n",
      "Blood calc free testosterone\n",
      "Blood oestradiol\n",
      "Blood LH\n",
      "Blood FSH\n",
      "Blood SHBG\n",
      "Blood insulin\n",
      "Blood cortisol\n"
     ]
    }
   ],
   "source": [
    "features = X.columns\n",
    "for feature in features:\n",
    "    print(feature)"
   ]
  },
  {
   "cell_type": "code",
   "execution_count": 91,
   "id": "ac05c95f-2e80-456f-8f9f-9ebf53d3ee0e",
   "metadata": {},
   "outputs": [
    {
     "data": {
      "text/plain": [
       "0     2\n",
       "1     2\n",
       "2     2\n",
       "3     2\n",
       "4     1\n",
       "5     3\n",
       "6     3\n",
       "7     0\n",
       "8     0\n",
       "9     1\n",
       "10    2\n",
       "11    1\n",
       "12    2\n",
       "13    1\n",
       "14    0\n",
       "15    0\n",
       "16    3\n",
       "17    2\n",
       "18    2\n",
       "19    1\n",
       "Name: Tumour Site, dtype: int64"
      ]
     },
     "execution_count": 91,
     "metadata": {},
     "output_type": "execute_result"
    }
   ],
   "source": [
    "y = data['Tumour Site']\n",
    "y.head(20)"
   ]
  },
  {
   "cell_type": "code",
   "execution_count": 92,
   "id": "4fba4f6d-6680-49d4-bda4-e3ea062eff6f",
   "metadata": {},
   "outputs": [],
   "source": [
    "X_train, X_test, y_train, y_test = train_test_split(X, y, test_size=0.3)"
   ]
  },
  {
   "cell_type": "markdown",
   "id": "4d286a4e-7693-4ff2-bb2a-3b35bf87bda4",
   "metadata": {},
   "source": [
    "\n",
    "\n",
    "\n",
    "ML MODEL 1\n",
    "\n",
    "\n",
    "\n"
   ]
  },
  {
   "cell_type": "code",
   "execution_count": 93,
   "id": "9b2cb2da-6402-4641-9cec-fa3bd734124a",
   "metadata": {},
   "outputs": [],
   "source": [
    "from sklearn.tree import DecisionTreeClassifier\n",
    "from sklearn.model_selection import train_test_split"
   ]
  },
  {
   "cell_type": "code",
   "execution_count": 94,
   "id": "12792e78-7414-43a5-8be3-5d80a31725af",
   "metadata": {},
   "outputs": [
    {
     "data": {
      "text/html": [
       "<style>#sk-container-id-7 {color: black;}#sk-container-id-7 pre{padding: 0;}#sk-container-id-7 div.sk-toggleable {background-color: white;}#sk-container-id-7 label.sk-toggleable__label {cursor: pointer;display: block;width: 100%;margin-bottom: 0;padding: 0.3em;box-sizing: border-box;text-align: center;}#sk-container-id-7 label.sk-toggleable__label-arrow:before {content: \"▸\";float: left;margin-right: 0.25em;color: #696969;}#sk-container-id-7 label.sk-toggleable__label-arrow:hover:before {color: black;}#sk-container-id-7 div.sk-estimator:hover label.sk-toggleable__label-arrow:before {color: black;}#sk-container-id-7 div.sk-toggleable__content {max-height: 0;max-width: 0;overflow: hidden;text-align: left;background-color: #f0f8ff;}#sk-container-id-7 div.sk-toggleable__content pre {margin: 0.2em;color: black;border-radius: 0.25em;background-color: #f0f8ff;}#sk-container-id-7 input.sk-toggleable__control:checked~div.sk-toggleable__content {max-height: 200px;max-width: 100%;overflow: auto;}#sk-container-id-7 input.sk-toggleable__control:checked~label.sk-toggleable__label-arrow:before {content: \"▾\";}#sk-container-id-7 div.sk-estimator input.sk-toggleable__control:checked~label.sk-toggleable__label {background-color: #d4ebff;}#sk-container-id-7 div.sk-label input.sk-toggleable__control:checked~label.sk-toggleable__label {background-color: #d4ebff;}#sk-container-id-7 input.sk-hidden--visually {border: 0;clip: rect(1px 1px 1px 1px);clip: rect(1px, 1px, 1px, 1px);height: 1px;margin: -1px;overflow: hidden;padding: 0;position: absolute;width: 1px;}#sk-container-id-7 div.sk-estimator {font-family: monospace;background-color: #f0f8ff;border: 1px dotted black;border-radius: 0.25em;box-sizing: border-box;margin-bottom: 0.5em;}#sk-container-id-7 div.sk-estimator:hover {background-color: #d4ebff;}#sk-container-id-7 div.sk-parallel-item::after {content: \"\";width: 100%;border-bottom: 1px solid gray;flex-grow: 1;}#sk-container-id-7 div.sk-label:hover label.sk-toggleable__label {background-color: #d4ebff;}#sk-container-id-7 div.sk-serial::before {content: \"\";position: absolute;border-left: 1px solid gray;box-sizing: border-box;top: 0;bottom: 0;left: 50%;z-index: 0;}#sk-container-id-7 div.sk-serial {display: flex;flex-direction: column;align-items: center;background-color: white;padding-right: 0.2em;padding-left: 0.2em;position: relative;}#sk-container-id-7 div.sk-item {position: relative;z-index: 1;}#sk-container-id-7 div.sk-parallel {display: flex;align-items: stretch;justify-content: center;background-color: white;position: relative;}#sk-container-id-7 div.sk-item::before, #sk-container-id-7 div.sk-parallel-item::before {content: \"\";position: absolute;border-left: 1px solid gray;box-sizing: border-box;top: 0;bottom: 0;left: 50%;z-index: -1;}#sk-container-id-7 div.sk-parallel-item {display: flex;flex-direction: column;z-index: 1;position: relative;background-color: white;}#sk-container-id-7 div.sk-parallel-item:first-child::after {align-self: flex-end;width: 50%;}#sk-container-id-7 div.sk-parallel-item:last-child::after {align-self: flex-start;width: 50%;}#sk-container-id-7 div.sk-parallel-item:only-child::after {width: 0;}#sk-container-id-7 div.sk-dashed-wrapped {border: 1px dashed gray;margin: 0 0.4em 0.5em 0.4em;box-sizing: border-box;padding-bottom: 0.4em;background-color: white;}#sk-container-id-7 div.sk-label label {font-family: monospace;font-weight: bold;display: inline-block;line-height: 1.2em;}#sk-container-id-7 div.sk-label-container {text-align: center;}#sk-container-id-7 div.sk-container {/* jupyter's `normalize.less` sets `[hidden] { display: none; }` but bootstrap.min.css set `[hidden] { display: none !important; }` so we also need the `!important` here to be able to override the default hidden behavior on the sphinx rendered scikit-learn.org. See: https://github.com/scikit-learn/scikit-learn/issues/21755 */display: inline-block !important;position: relative;}#sk-container-id-7 div.sk-text-repr-fallback {display: none;}</style><div id=\"sk-container-id-7\" class=\"sk-top-container\"><div class=\"sk-text-repr-fallback\"><pre>DecisionTreeClassifier(criterion=&#x27;entropy&#x27;, random_state=0)</pre><b>In a Jupyter environment, please rerun this cell to show the HTML representation or trust the notebook. <br />On GitHub, the HTML representation is unable to render, please try loading this page with nbviewer.org.</b></div><div class=\"sk-container\" hidden><div class=\"sk-item\"><div class=\"sk-estimator sk-toggleable\"><input class=\"sk-toggleable__control sk-hidden--visually\" id=\"sk-estimator-id-7\" type=\"checkbox\" checked><label for=\"sk-estimator-id-7\" class=\"sk-toggleable__label sk-toggleable__label-arrow\">DecisionTreeClassifier</label><div class=\"sk-toggleable__content\"><pre>DecisionTreeClassifier(criterion=&#x27;entropy&#x27;, random_state=0)</pre></div></div></div></div></div>"
      ],
      "text/plain": [
       "DecisionTreeClassifier(criterion='entropy', random_state=0)"
      ]
     },
     "execution_count": 94,
     "metadata": {},
     "output_type": "execute_result"
    }
   ],
   "source": [
    "from sklearn import tree\n",
    "\n",
    "clf = tree.DecisionTreeClassifier(criterion='entropy', random_state=0)\n",
    "clf.fit(X_train, y_train)"
   ]
  },
  {
   "cell_type": "code",
   "execution_count": 95,
   "id": "53523caf-751f-4355-a19d-504b76064063",
   "metadata": {},
   "outputs": [],
   "source": [
    "Test = clf.predict(X_test)"
   ]
  },
  {
   "cell_type": "code",
   "execution_count": 96,
   "id": "b38b8f09-31a4-4df8-8d4a-a9724f67cd2c",
   "metadata": {},
   "outputs": [
    {
     "data": {
      "text/plain": [
       "array([2, 2, 1, 3, 1, 3, 3, 3, 2, 3, 3, 3, 0, 3, 3, 2, 3, 1, 1])"
      ]
     },
     "execution_count": 96,
     "metadata": {},
     "output_type": "execute_result"
    }
   ],
   "source": [
    "Test"
   ]
  },
  {
   "cell_type": "code",
   "execution_count": 97,
   "id": "ec90c40f-e9b5-4352-ada0-c7af70dc8741",
   "metadata": {},
   "outputs": [
    {
     "data": {
      "text/plain": [
       "23    2\n",
       "37    1\n",
       "49    2\n",
       "16    3\n",
       "10    2\n",
       "25    3\n",
       "42    3\n",
       "7     0\n",
       "6     3\n",
       "45    3\n",
       "31    3\n",
       "27    3\n",
       "40    1\n",
       "39    3\n",
       "35    3\n",
       "18    2\n",
       "33    1\n",
       "19    1\n",
       "4     1\n",
       "Name: Tumour Site, dtype: int64"
      ]
     },
     "execution_count": 97,
     "metadata": {},
     "output_type": "execute_result"
    }
   ],
   "source": [
    "y_test"
   ]
  },
  {
   "cell_type": "code",
   "execution_count": 98,
   "id": "86e0739c-da0c-4cbe-805e-0bd740bd39f1",
   "metadata": {},
   "outputs": [],
   "source": [
    "from sklearn.metrics import accuracy_score, confusion_matrix, classification_report"
   ]
  },
  {
   "cell_type": "code",
   "execution_count": 99,
   "id": "6961dbfa-c5fd-4a90-878c-804a44722bd6",
   "metadata": {},
   "outputs": [
    {
     "name": "stdout",
     "output_type": "stream",
     "text": [
      "Model Accuracy =  63.1578947368421\n",
      "\n",
      "\n",
      "Classification Report : \n",
      "               precision    recall  f1-score   support\n",
      "\n",
      "           0       0.00      0.00      0.00         1\n",
      "           1       0.50      0.40      0.44         5\n",
      "           2       0.50      0.50      0.50         4\n",
      "           3       0.80      0.89      0.84         9\n",
      "\n",
      "    accuracy                           0.63        19\n",
      "   macro avg       0.45      0.45      0.45        19\n",
      "weighted avg       0.62      0.63      0.62        19\n",
      "\n"
     ]
    }
   ],
   "source": [
    "accuracy = accuracy_score(y_test,Test)\n",
    "print(\"Model Accuracy = \",accuracy*100)\n",
    "\n",
    "print(\"\\n\")\n",
    "\n",
    "report = classification_report(y_test,Test)\n",
    "print(\"Classification Report : \\n\",report)"
   ]
  },
  {
   "cell_type": "code",
   "execution_count": 100,
   "id": "6f098569-5699-4f5d-a41d-34ebf48286ce",
   "metadata": {},
   "outputs": [
    {
     "data": {
      "text/plain": [
       "array([[0, 0, 0, 1],\n",
       "       [1, 2, 1, 1],\n",
       "       [0, 2, 2, 0],\n",
       "       [0, 0, 1, 8]])"
      ]
     },
     "execution_count": 100,
     "metadata": {},
     "output_type": "execute_result"
    }
   ],
   "source": [
    "matrix = confusion_matrix(y_test,Test)\n",
    "matrix"
   ]
  },
  {
   "cell_type": "markdown",
   "id": "00433026-3295-4bc7-b7ec-731c81f61315",
   "metadata": {},
   "source": [
    "\n",
    "\n",
    "\n",
    "\n",
    "ML MODEL 2\n",
    "\n",
    "\n",
    "\n"
   ]
  },
  {
   "cell_type": "code",
   "execution_count": 101,
   "id": "c7d5c4a3-d08a-45e8-be60-928dbfbfd596",
   "metadata": {},
   "outputs": [],
   "source": [
    "from sklearn.ensemble import RandomForestClassifier"
   ]
  },
  {
   "cell_type": "code",
   "execution_count": 102,
   "id": "78e574cc-d0ea-47c7-b8a8-ade2dcc69e47",
   "metadata": {},
   "outputs": [
    {
     "data": {
      "text/html": [
       "<style>#sk-container-id-8 {color: black;}#sk-container-id-8 pre{padding: 0;}#sk-container-id-8 div.sk-toggleable {background-color: white;}#sk-container-id-8 label.sk-toggleable__label {cursor: pointer;display: block;width: 100%;margin-bottom: 0;padding: 0.3em;box-sizing: border-box;text-align: center;}#sk-container-id-8 label.sk-toggleable__label-arrow:before {content: \"▸\";float: left;margin-right: 0.25em;color: #696969;}#sk-container-id-8 label.sk-toggleable__label-arrow:hover:before {color: black;}#sk-container-id-8 div.sk-estimator:hover label.sk-toggleable__label-arrow:before {color: black;}#sk-container-id-8 div.sk-toggleable__content {max-height: 0;max-width: 0;overflow: hidden;text-align: left;background-color: #f0f8ff;}#sk-container-id-8 div.sk-toggleable__content pre {margin: 0.2em;color: black;border-radius: 0.25em;background-color: #f0f8ff;}#sk-container-id-8 input.sk-toggleable__control:checked~div.sk-toggleable__content {max-height: 200px;max-width: 100%;overflow: auto;}#sk-container-id-8 input.sk-toggleable__control:checked~label.sk-toggleable__label-arrow:before {content: \"▾\";}#sk-container-id-8 div.sk-estimator input.sk-toggleable__control:checked~label.sk-toggleable__label {background-color: #d4ebff;}#sk-container-id-8 div.sk-label input.sk-toggleable__control:checked~label.sk-toggleable__label {background-color: #d4ebff;}#sk-container-id-8 input.sk-hidden--visually {border: 0;clip: rect(1px 1px 1px 1px);clip: rect(1px, 1px, 1px, 1px);height: 1px;margin: -1px;overflow: hidden;padding: 0;position: absolute;width: 1px;}#sk-container-id-8 div.sk-estimator {font-family: monospace;background-color: #f0f8ff;border: 1px dotted black;border-radius: 0.25em;box-sizing: border-box;margin-bottom: 0.5em;}#sk-container-id-8 div.sk-estimator:hover {background-color: #d4ebff;}#sk-container-id-8 div.sk-parallel-item::after {content: \"\";width: 100%;border-bottom: 1px solid gray;flex-grow: 1;}#sk-container-id-8 div.sk-label:hover label.sk-toggleable__label {background-color: #d4ebff;}#sk-container-id-8 div.sk-serial::before {content: \"\";position: absolute;border-left: 1px solid gray;box-sizing: border-box;top: 0;bottom: 0;left: 50%;z-index: 0;}#sk-container-id-8 div.sk-serial {display: flex;flex-direction: column;align-items: center;background-color: white;padding-right: 0.2em;padding-left: 0.2em;position: relative;}#sk-container-id-8 div.sk-item {position: relative;z-index: 1;}#sk-container-id-8 div.sk-parallel {display: flex;align-items: stretch;justify-content: center;background-color: white;position: relative;}#sk-container-id-8 div.sk-item::before, #sk-container-id-8 div.sk-parallel-item::before {content: \"\";position: absolute;border-left: 1px solid gray;box-sizing: border-box;top: 0;bottom: 0;left: 50%;z-index: -1;}#sk-container-id-8 div.sk-parallel-item {display: flex;flex-direction: column;z-index: 1;position: relative;background-color: white;}#sk-container-id-8 div.sk-parallel-item:first-child::after {align-self: flex-end;width: 50%;}#sk-container-id-8 div.sk-parallel-item:last-child::after {align-self: flex-start;width: 50%;}#sk-container-id-8 div.sk-parallel-item:only-child::after {width: 0;}#sk-container-id-8 div.sk-dashed-wrapped {border: 1px dashed gray;margin: 0 0.4em 0.5em 0.4em;box-sizing: border-box;padding-bottom: 0.4em;background-color: white;}#sk-container-id-8 div.sk-label label {font-family: monospace;font-weight: bold;display: inline-block;line-height: 1.2em;}#sk-container-id-8 div.sk-label-container {text-align: center;}#sk-container-id-8 div.sk-container {/* jupyter's `normalize.less` sets `[hidden] { display: none; }` but bootstrap.min.css set `[hidden] { display: none !important; }` so we also need the `!important` here to be able to override the default hidden behavior on the sphinx rendered scikit-learn.org. See: https://github.com/scikit-learn/scikit-learn/issues/21755 */display: inline-block !important;position: relative;}#sk-container-id-8 div.sk-text-repr-fallback {display: none;}</style><div id=\"sk-container-id-8\" class=\"sk-top-container\"><div class=\"sk-text-repr-fallback\"><pre>RandomForestClassifier(criterion=&#x27;entropy&#x27;, random_state=42)</pre><b>In a Jupyter environment, please rerun this cell to show the HTML representation or trust the notebook. <br />On GitHub, the HTML representation is unable to render, please try loading this page with nbviewer.org.</b></div><div class=\"sk-container\" hidden><div class=\"sk-item\"><div class=\"sk-estimator sk-toggleable\"><input class=\"sk-toggleable__control sk-hidden--visually\" id=\"sk-estimator-id-8\" type=\"checkbox\" checked><label for=\"sk-estimator-id-8\" class=\"sk-toggleable__label sk-toggleable__label-arrow\">RandomForestClassifier</label><div class=\"sk-toggleable__content\"><pre>RandomForestClassifier(criterion=&#x27;entropy&#x27;, random_state=42)</pre></div></div></div></div></div>"
      ],
      "text/plain": [
       "RandomForestClassifier(criterion='entropy', random_state=42)"
      ]
     },
     "execution_count": 102,
     "metadata": {},
     "output_type": "execute_result"
    }
   ],
   "source": [
    "clf2 = RandomForestClassifier(n_estimators=100, criterion='entropy', random_state=42)\n",
    "clf2.fit(X_train, y_train)"
   ]
  },
  {
   "cell_type": "code",
   "execution_count": 103,
   "id": "c2c49b13-63a3-47ec-b08c-fc2ddd50a90a",
   "metadata": {},
   "outputs": [],
   "source": [
    "Test2 = clf2.predict(X_test)"
   ]
  },
  {
   "cell_type": "code",
   "execution_count": 104,
   "id": "c8c99882-ae35-4fe2-82eb-bb7665a1cf90",
   "metadata": {},
   "outputs": [
    {
     "data": {
      "text/plain": [
       "array([2, 2, 1, 3, 2, 3, 3, 2, 3, 3, 3, 3, 0, 3, 3, 2, 2, 1, 2])"
      ]
     },
     "execution_count": 104,
     "metadata": {},
     "output_type": "execute_result"
    }
   ],
   "source": [
    "Test2"
   ]
  },
  {
   "cell_type": "code",
   "execution_count": 105,
   "id": "fac38650-917a-429b-b8ba-4e269dd5dfd8",
   "metadata": {},
   "outputs": [
    {
     "name": "stdout",
     "output_type": "stream",
     "text": [
      "Model 2 Accuracy =  68.42105263157895\n",
      "\n",
      "\n",
      "Classification Report 2: \n",
      "               precision    recall  f1-score   support\n",
      "\n",
      "           0       0.00      0.00      0.00         1\n",
      "           1       0.50      0.20      0.29         5\n",
      "           2       0.43      0.75      0.55         4\n",
      "           3       1.00      1.00      1.00         9\n",
      "\n",
      "    accuracy                           0.68        19\n",
      "   macro avg       0.48      0.49      0.46        19\n",
      "weighted avg       0.70      0.68      0.66        19\n",
      "\n"
     ]
    }
   ],
   "source": [
    "accuracy2 = accuracy_score(y_test,Test2)\n",
    "print(\"Model 2 Accuracy = \",accuracy2*100)\n",
    "\n",
    "print(\"\\n\")\n",
    "\n",
    "report2 = classification_report(y_test,Test2)\n",
    "print(\"Classification Report 2: \\n\",report2)"
   ]
  },
  {
   "cell_type": "code",
   "execution_count": 106,
   "id": "530c3ae3-d6e6-4177-81fd-8459bb47477a",
   "metadata": {},
   "outputs": [
    {
     "data": {
      "text/plain": [
       "array([[0, 0, 1, 0],\n",
       "       [1, 1, 3, 0],\n",
       "       [0, 1, 3, 0],\n",
       "       [0, 0, 0, 9]])"
      ]
     },
     "execution_count": 106,
     "metadata": {},
     "output_type": "execute_result"
    }
   ],
   "source": [
    "matrix2 = confusion_matrix(y_test,Test2)\n",
    "matrix2"
   ]
  },
  {
   "cell_type": "markdown",
   "id": "94625a09-61b5-42ac-80d7-2736fb37c90c",
   "metadata": {},
   "source": [
    "\n",
    "\n",
    "\n",
    "\n",
    "ML MODEL 3\n",
    "\n",
    "\n",
    "\n"
   ]
  },
  {
   "cell_type": "code",
   "execution_count": 107,
   "id": "2bdabfc3-c70d-41d8-b400-a9c9b9c56fda",
   "metadata": {},
   "outputs": [],
   "source": [
    "from sklearn.svm import SVC"
   ]
  },
  {
   "cell_type": "code",
   "execution_count": 108,
   "id": "c81e6108-371c-4811-a21e-c48ab03bf779",
   "metadata": {},
   "outputs": [
    {
     "data": {
      "text/html": [
       "<style>#sk-container-id-9 {color: black;}#sk-container-id-9 pre{padding: 0;}#sk-container-id-9 div.sk-toggleable {background-color: white;}#sk-container-id-9 label.sk-toggleable__label {cursor: pointer;display: block;width: 100%;margin-bottom: 0;padding: 0.3em;box-sizing: border-box;text-align: center;}#sk-container-id-9 label.sk-toggleable__label-arrow:before {content: \"▸\";float: left;margin-right: 0.25em;color: #696969;}#sk-container-id-9 label.sk-toggleable__label-arrow:hover:before {color: black;}#sk-container-id-9 div.sk-estimator:hover label.sk-toggleable__label-arrow:before {color: black;}#sk-container-id-9 div.sk-toggleable__content {max-height: 0;max-width: 0;overflow: hidden;text-align: left;background-color: #f0f8ff;}#sk-container-id-9 div.sk-toggleable__content pre {margin: 0.2em;color: black;border-radius: 0.25em;background-color: #f0f8ff;}#sk-container-id-9 input.sk-toggleable__control:checked~div.sk-toggleable__content {max-height: 200px;max-width: 100%;overflow: auto;}#sk-container-id-9 input.sk-toggleable__control:checked~label.sk-toggleable__label-arrow:before {content: \"▾\";}#sk-container-id-9 div.sk-estimator input.sk-toggleable__control:checked~label.sk-toggleable__label {background-color: #d4ebff;}#sk-container-id-9 div.sk-label input.sk-toggleable__control:checked~label.sk-toggleable__label {background-color: #d4ebff;}#sk-container-id-9 input.sk-hidden--visually {border: 0;clip: rect(1px 1px 1px 1px);clip: rect(1px, 1px, 1px, 1px);height: 1px;margin: -1px;overflow: hidden;padding: 0;position: absolute;width: 1px;}#sk-container-id-9 div.sk-estimator {font-family: monospace;background-color: #f0f8ff;border: 1px dotted black;border-radius: 0.25em;box-sizing: border-box;margin-bottom: 0.5em;}#sk-container-id-9 div.sk-estimator:hover {background-color: #d4ebff;}#sk-container-id-9 div.sk-parallel-item::after {content: \"\";width: 100%;border-bottom: 1px solid gray;flex-grow: 1;}#sk-container-id-9 div.sk-label:hover label.sk-toggleable__label {background-color: #d4ebff;}#sk-container-id-9 div.sk-serial::before {content: \"\";position: absolute;border-left: 1px solid gray;box-sizing: border-box;top: 0;bottom: 0;left: 50%;z-index: 0;}#sk-container-id-9 div.sk-serial {display: flex;flex-direction: column;align-items: center;background-color: white;padding-right: 0.2em;padding-left: 0.2em;position: relative;}#sk-container-id-9 div.sk-item {position: relative;z-index: 1;}#sk-container-id-9 div.sk-parallel {display: flex;align-items: stretch;justify-content: center;background-color: white;position: relative;}#sk-container-id-9 div.sk-item::before, #sk-container-id-9 div.sk-parallel-item::before {content: \"\";position: absolute;border-left: 1px solid gray;box-sizing: border-box;top: 0;bottom: 0;left: 50%;z-index: -1;}#sk-container-id-9 div.sk-parallel-item {display: flex;flex-direction: column;z-index: 1;position: relative;background-color: white;}#sk-container-id-9 div.sk-parallel-item:first-child::after {align-self: flex-end;width: 50%;}#sk-container-id-9 div.sk-parallel-item:last-child::after {align-self: flex-start;width: 50%;}#sk-container-id-9 div.sk-parallel-item:only-child::after {width: 0;}#sk-container-id-9 div.sk-dashed-wrapped {border: 1px dashed gray;margin: 0 0.4em 0.5em 0.4em;box-sizing: border-box;padding-bottom: 0.4em;background-color: white;}#sk-container-id-9 div.sk-label label {font-family: monospace;font-weight: bold;display: inline-block;line-height: 1.2em;}#sk-container-id-9 div.sk-label-container {text-align: center;}#sk-container-id-9 div.sk-container {/* jupyter's `normalize.less` sets `[hidden] { display: none; }` but bootstrap.min.css set `[hidden] { display: none !important; }` so we also need the `!important` here to be able to override the default hidden behavior on the sphinx rendered scikit-learn.org. See: https://github.com/scikit-learn/scikit-learn/issues/21755 */display: inline-block !important;position: relative;}#sk-container-id-9 div.sk-text-repr-fallback {display: none;}</style><div id=\"sk-container-id-9\" class=\"sk-top-container\"><div class=\"sk-text-repr-fallback\"><pre>SVC(kernel=&#x27;linear&#x27;, random_state=42)</pre><b>In a Jupyter environment, please rerun this cell to show the HTML representation or trust the notebook. <br />On GitHub, the HTML representation is unable to render, please try loading this page with nbviewer.org.</b></div><div class=\"sk-container\" hidden><div class=\"sk-item\"><div class=\"sk-estimator sk-toggleable\"><input class=\"sk-toggleable__control sk-hidden--visually\" id=\"sk-estimator-id-9\" type=\"checkbox\" checked><label for=\"sk-estimator-id-9\" class=\"sk-toggleable__label sk-toggleable__label-arrow\">SVC</label><div class=\"sk-toggleable__content\"><pre>SVC(kernel=&#x27;linear&#x27;, random_state=42)</pre></div></div></div></div></div>"
      ],
      "text/plain": [
       "SVC(kernel='linear', random_state=42)"
      ]
     },
     "execution_count": 108,
     "metadata": {},
     "output_type": "execute_result"
    }
   ],
   "source": [
    "clf3 = SVC(kernel='linear', random_state=42)\n",
    "clf3.fit(X_train, y_train)"
   ]
  },
  {
   "cell_type": "code",
   "execution_count": 109,
   "id": "0c54c9a5-bf17-4ba5-957d-af5d8dda99f2",
   "metadata": {},
   "outputs": [],
   "source": [
    "Test3 = clf3.predict(X_test)"
   ]
  },
  {
   "cell_type": "code",
   "execution_count": 113,
   "id": "4c72b107-6c07-42e8-9250-2fd330aaec1d",
   "metadata": {},
   "outputs": [
    {
     "data": {
      "text/plain": [
       "array([1, 0, 1, 3, 1, 1, 3, 1, 2, 1, 1, 3, 0, 1, 0, 2, 1, 1, 1])"
      ]
     },
     "execution_count": 113,
     "metadata": {},
     "output_type": "execute_result"
    }
   ],
   "source": [
    "Test3"
   ]
  },
  {
   "cell_type": "code",
   "execution_count": 110,
   "id": "c068b5f5-d7ea-41e3-881a-ef0862f42c27",
   "metadata": {},
   "outputs": [
    {
     "name": "stdout",
     "output_type": "stream",
     "text": [
      "Model 3 Accuracy =  36.84210526315789\n",
      "\n",
      "\n",
      "Classification Report 3: \n",
      "               precision    recall  f1-score   support\n",
      "\n",
      "           0       0.00      0.00      0.00         1\n",
      "           1       0.27      0.60      0.37         5\n",
      "           2       0.50      0.25      0.33         4\n",
      "           3       1.00      0.33      0.50         9\n",
      "\n",
      "    accuracy                           0.37        19\n",
      "   macro avg       0.44      0.30      0.30        19\n",
      "weighted avg       0.65      0.37      0.41        19\n",
      "\n"
     ]
    }
   ],
   "source": [
    "accuracy3 = accuracy_score(y_test,Test3)\n",
    "print(\"Model 3 Accuracy = \",accuracy3*100)\n",
    "\n",
    "print(\"\\n\")\n",
    "\n",
    "report3 = classification_report(y_test,Test3)\n",
    "print(\"Classification Report 3: \\n\",report3)"
   ]
  },
  {
   "cell_type": "code",
   "execution_count": 111,
   "id": "1631a5da-894e-4952-8eb5-555b0346c605",
   "metadata": {},
   "outputs": [
    {
     "data": {
      "text/plain": [
       "array([[0, 1, 0, 0],\n",
       "       [2, 3, 0, 0],\n",
       "       [0, 3, 1, 0],\n",
       "       [1, 4, 1, 3]])"
      ]
     },
     "execution_count": 111,
     "metadata": {},
     "output_type": "execute_result"
    }
   ],
   "source": [
    "matrix3 = confusion_matrix(y_test,Test3)\n",
    "matrix3"
   ]
  },
  {
   "cell_type": "markdown",
   "id": "019909d0-7114-4f30-b4f2-6491bc66e8a6",
   "metadata": {},
   "source": [
    "\n",
    "\n",
    "\n",
    "\n",
    "COMPARISON BETWEEN MODELS\n",
    "\n",
    "\n",
    "\n"
   ]
  },
  {
   "cell_type": "code",
   "execution_count": 112,
   "id": "840dd28f-5b45-476f-91b0-208e7b4d92d0",
   "metadata": {},
   "outputs": [
    {
     "name": "stdout",
     "output_type": "stream",
     "text": [
      "Model 1 Accuracy =  63.1578947368421\n",
      "Model 2 Accuracy =  68.42105263157895\n",
      "Model 3 Accuracy =  36.84210526315789\n"
     ]
    }
   ],
   "source": [
    "print(\"Model 1 Accuracy = \",accuracy*100)\n",
    "print(\"Model 2 Accuracy = \",accuracy2*100)\n",
    "print(\"Model 3 Accuracy = \",accuracy3*100)"
   ]
  },
  {
   "cell_type": "code",
   "execution_count": 114,
   "id": "666c2bcf-9f97-4d0d-a5a3-27ea0b37ec43",
   "metadata": {},
   "outputs": [],
   "source": [
    "from joblib import dump"
   ]
  },
  {
   "cell_type": "code",
   "execution_count": 118,
   "id": "7269ce07-c861-4bdc-8aec-60129e6b771d",
   "metadata": {},
   "outputs": [
    {
     "data": {
      "text/plain": [
       "['./../savedModels/model.joblib']"
      ]
     },
     "execution_count": 118,
     "metadata": {},
     "output_type": "execute_result"
    }
   ],
   "source": [
    "dump(clf,'./../savedModels/model.joblib')"
   ]
  },
  {
   "cell_type": "code",
   "execution_count": 120,
   "id": "c77ba542-afbe-478a-b172-2406b06a7339",
   "metadata": {},
   "outputs": [
    {
     "data": {
      "text/plain": [
       "['./../savedModels/model2.joblib']"
      ]
     },
     "execution_count": 120,
     "metadata": {},
     "output_type": "execute_result"
    }
   ],
   "source": [
    "dump(clf2,'./../savedModels/model2.joblib')"
   ]
  },
  {
   "cell_type": "code",
   "execution_count": 121,
   "id": "4820304c-bdeb-43dd-b9aa-5fe43e357933",
   "metadata": {},
   "outputs": [
    {
     "data": {
      "text/plain": [
       "['./../savedModels/model3.joblib']"
      ]
     },
     "execution_count": 121,
     "metadata": {},
     "output_type": "execute_result"
    }
   ],
   "source": [
    "dump(clf3,'./../savedModels/model3.joblib')"
   ]
  },
  {
   "cell_type": "code",
   "execution_count": null,
   "id": "1176d474-8cdb-42a0-a784-18fea63cb2f1",
   "metadata": {},
   "outputs": [],
   "source": []
  }
 ],
 "metadata": {
  "kernelspec": {
   "display_name": "Python 3 (ipykernel)",
   "language": "python",
   "name": "python3"
  },
  "language_info": {
   "codemirror_mode": {
    "name": "ipython",
    "version": 3
   },
   "file_extension": ".py",
   "mimetype": "text/x-python",
   "name": "python",
   "nbconvert_exporter": "python",
   "pygments_lexer": "ipython3",
   "version": "3.11.5"
  }
 },
 "nbformat": 4,
 "nbformat_minor": 5
}
